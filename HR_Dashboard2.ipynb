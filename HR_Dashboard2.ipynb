{
  "nbformat": 4,
  "nbformat_minor": 0,
  "metadata": {
    "colab": {
      "name": "HR Dashboard2.ipynb",
      "provenance": [],
      "collapsed_sections": []
    },
    "kernelspec": {
      "name": "python3",
      "display_name": "Python 3"
    },
    "language_info": {
      "name": "python"
    }
  },
  "cells": [
    {
      "cell_type": "code",
      "metadata": {
        "id": "KGWPGZM2YluE"
      },
      "source": [
        "import pandas as pd\n",
        "import numpy as np\n",
        "import matplotlib.pyplot as plt\n",
        "from sklearn.model_selection import train_test_split\n",
        "from sklearn.metrics import classification_report\n",
        "from sklearn.linear_model import LinearRegression\n",
        "from sklearn.preprocessing import StandardScaler"
      ],
      "execution_count": 173,
      "outputs": []
    },
    {
      "cell_type": "code",
      "metadata": {
        "colab": {
          "base_uri": "https://localhost:8080/"
        },
        "id": "XVb_PfN1YR-T",
        "outputId": "c5c4f3c6-138c-4b8d-f3b9-1bdfa148065a"
      },
      "source": [
        "df = pd.read_csv('/content/HR_dataset1.csv')\n",
        "target = df.pop('salary')\n",
        "df.head\n",
        "\n",
        "\n",
        "\n"
      ],
      "execution_count": 174,
      "outputs": [
        {
          "output_type": "execute_result",
          "data": {
            "text/plain": [
              "<bound method NDFrame.head of        satisfaction_level  last_evaluation  ...  promotion_last_5years  sales\n",
              "0                    0.38             0.53  ...                      0  sales\n",
              "1                    0.80             0.86  ...                      0  sales\n",
              "2                    0.11             0.88  ...                      0  sales\n",
              "3                    0.72             0.87  ...                      0  sales\n",
              "4                    0.37             0.52  ...                      0  sales\n",
              "...                   ...              ...  ...                    ...    ...\n",
              "14994                0.40             0.57  ...                      0  sales\n",
              "14995                0.37             0.48  ...                      0  sales\n",
              "14996                0.37             0.53  ...                      0  sales\n",
              "14997                0.11             0.96  ...                      0  sales\n",
              "14998                0.37             0.52  ...                      0  sales\n",
              "\n",
              "[14999 rows x 8 columns]>"
            ]
          },
          "metadata": {
            "tags": []
          },
          "execution_count": 174
        }
      ]
    },
    {
      "cell_type": "code",
      "metadata": {
        "id": "pdPxH0jOdNhH"
      },
      "source": [
        "x = df.iloc[:, 1:2].values\n",
        "y = df.iloc[:, 1:2].values"
      ],
      "execution_count": 175,
      "outputs": []
    },
    {
      "cell_type": "code",
      "metadata": {
        "id": "-Q-rz2mXaBvN",
        "colab": {
          "base_uri": "https://localhost:8080/"
        },
        "outputId": "f00c3991-8a99-49c7-831a-f6a189916447"
      },
      "source": [
        "sorted(df.columns)"
      ],
      "execution_count": 176,
      "outputs": [
        {
          "output_type": "execute_result",
          "data": {
            "text/plain": [
              "['Work_accident',\n",
              " 'last_evaluation',\n",
              " 'left',\n",
              " 'number_project',\n",
              " 'promotion_last_5years',\n",
              " 'sales',\n",
              " 'satisfaction_level',\n",
              " 'time_spend_company']"
            ]
          },
          "metadata": {
            "tags": []
          },
          "execution_count": 176
        }
      ]
    },
    {
      "cell_type": "code",
      "metadata": {
        "id": "pKDNl0cIaRJt",
        "colab": {
          "base_uri": "https://localhost:8080/",
          "height": 202
        },
        "outputId": "1c6daeee-71b2-4c42-c53c-2d4bbf2196d1"
      },
      "source": [
        "#converting textual columns to numeric\n",
        "char_cols = df.dtypes.pipe(lambda x:x[x=='object']).index\n",
        "label_mapping = {}\n",
        "for c in char_cols:\n",
        "  df[c], label_mapping[c] = pd.factorize(df[c])\n",
        "df.head()"
      ],
      "execution_count": 177,
      "outputs": [
        {
          "output_type": "execute_result",
          "data": {
            "text/html": [
              "<div>\n",
              "<style scoped>\n",
              "    .dataframe tbody tr th:only-of-type {\n",
              "        vertical-align: middle;\n",
              "    }\n",
              "\n",
              "    .dataframe tbody tr th {\n",
              "        vertical-align: top;\n",
              "    }\n",
              "\n",
              "    .dataframe thead th {\n",
              "        text-align: right;\n",
              "    }\n",
              "</style>\n",
              "<table border=\"1\" class=\"dataframe\">\n",
              "  <thead>\n",
              "    <tr style=\"text-align: right;\">\n",
              "      <th></th>\n",
              "      <th>satisfaction_level</th>\n",
              "      <th>last_evaluation</th>\n",
              "      <th>number_project</th>\n",
              "      <th>time_spend_company</th>\n",
              "      <th>Work_accident</th>\n",
              "      <th>left</th>\n",
              "      <th>promotion_last_5years</th>\n",
              "      <th>sales</th>\n",
              "    </tr>\n",
              "  </thead>\n",
              "  <tbody>\n",
              "    <tr>\n",
              "      <th>0</th>\n",
              "      <td>0.38</td>\n",
              "      <td>0.53</td>\n",
              "      <td>2</td>\n",
              "      <td>3</td>\n",
              "      <td>0</td>\n",
              "      <td>1</td>\n",
              "      <td>0</td>\n",
              "      <td>0</td>\n",
              "    </tr>\n",
              "    <tr>\n",
              "      <th>1</th>\n",
              "      <td>0.80</td>\n",
              "      <td>0.86</td>\n",
              "      <td>5</td>\n",
              "      <td>6</td>\n",
              "      <td>0</td>\n",
              "      <td>1</td>\n",
              "      <td>0</td>\n",
              "      <td>0</td>\n",
              "    </tr>\n",
              "    <tr>\n",
              "      <th>2</th>\n",
              "      <td>0.11</td>\n",
              "      <td>0.88</td>\n",
              "      <td>7</td>\n",
              "      <td>4</td>\n",
              "      <td>0</td>\n",
              "      <td>1</td>\n",
              "      <td>0</td>\n",
              "      <td>0</td>\n",
              "    </tr>\n",
              "    <tr>\n",
              "      <th>3</th>\n",
              "      <td>0.72</td>\n",
              "      <td>0.87</td>\n",
              "      <td>5</td>\n",
              "      <td>5</td>\n",
              "      <td>0</td>\n",
              "      <td>1</td>\n",
              "      <td>0</td>\n",
              "      <td>0</td>\n",
              "    </tr>\n",
              "    <tr>\n",
              "      <th>4</th>\n",
              "      <td>0.37</td>\n",
              "      <td>0.52</td>\n",
              "      <td>2</td>\n",
              "      <td>3</td>\n",
              "      <td>0</td>\n",
              "      <td>1</td>\n",
              "      <td>0</td>\n",
              "      <td>0</td>\n",
              "    </tr>\n",
              "  </tbody>\n",
              "</table>\n",
              "</div>"
            ],
            "text/plain": [
              "   satisfaction_level  last_evaluation  ...  promotion_last_5years  sales\n",
              "0                0.38             0.53  ...                      0      0\n",
              "1                0.80             0.86  ...                      0      0\n",
              "2                0.11             0.88  ...                      0      0\n",
              "3                0.72             0.87  ...                      0      0\n",
              "4                0.37             0.52  ...                      0      0\n",
              "\n",
              "[5 rows x 8 columns]"
            ]
          },
          "metadata": {
            "tags": []
          },
          "execution_count": 177
        }
      ]
    },
    {
      "cell_type": "code",
      "metadata": {
        "id": "cjobLGBqbTpZ",
        "colab": {
          "base_uri": "https://localhost:8080/",
          "height": 202
        },
        "outputId": "7173a1cf-cea7-4739-d117-c2d7256abfbc"
      },
      "source": [
        "#removing columns with lesser significance\n",
        "df = df.drop(columns=['last_evaluation','Work_accident'])\n",
        "df.head()"
      ],
      "execution_count": 178,
      "outputs": [
        {
          "output_type": "execute_result",
          "data": {
            "text/html": [
              "<div>\n",
              "<style scoped>\n",
              "    .dataframe tbody tr th:only-of-type {\n",
              "        vertical-align: middle;\n",
              "    }\n",
              "\n",
              "    .dataframe tbody tr th {\n",
              "        vertical-align: top;\n",
              "    }\n",
              "\n",
              "    .dataframe thead th {\n",
              "        text-align: right;\n",
              "    }\n",
              "</style>\n",
              "<table border=\"1\" class=\"dataframe\">\n",
              "  <thead>\n",
              "    <tr style=\"text-align: right;\">\n",
              "      <th></th>\n",
              "      <th>satisfaction_level</th>\n",
              "      <th>number_project</th>\n",
              "      <th>time_spend_company</th>\n",
              "      <th>left</th>\n",
              "      <th>promotion_last_5years</th>\n",
              "      <th>sales</th>\n",
              "    </tr>\n",
              "  </thead>\n",
              "  <tbody>\n",
              "    <tr>\n",
              "      <th>0</th>\n",
              "      <td>0.38</td>\n",
              "      <td>2</td>\n",
              "      <td>3</td>\n",
              "      <td>1</td>\n",
              "      <td>0</td>\n",
              "      <td>0</td>\n",
              "    </tr>\n",
              "    <tr>\n",
              "      <th>1</th>\n",
              "      <td>0.80</td>\n",
              "      <td>5</td>\n",
              "      <td>6</td>\n",
              "      <td>1</td>\n",
              "      <td>0</td>\n",
              "      <td>0</td>\n",
              "    </tr>\n",
              "    <tr>\n",
              "      <th>2</th>\n",
              "      <td>0.11</td>\n",
              "      <td>7</td>\n",
              "      <td>4</td>\n",
              "      <td>1</td>\n",
              "      <td>0</td>\n",
              "      <td>0</td>\n",
              "    </tr>\n",
              "    <tr>\n",
              "      <th>3</th>\n",
              "      <td>0.72</td>\n",
              "      <td>5</td>\n",
              "      <td>5</td>\n",
              "      <td>1</td>\n",
              "      <td>0</td>\n",
              "      <td>0</td>\n",
              "    </tr>\n",
              "    <tr>\n",
              "      <th>4</th>\n",
              "      <td>0.37</td>\n",
              "      <td>2</td>\n",
              "      <td>3</td>\n",
              "      <td>1</td>\n",
              "      <td>0</td>\n",
              "      <td>0</td>\n",
              "    </tr>\n",
              "  </tbody>\n",
              "</table>\n",
              "</div>"
            ],
            "text/plain": [
              "   satisfaction_level  number_project  ...  promotion_last_5years  sales\n",
              "0                0.38               2  ...                      0      0\n",
              "1                0.80               5  ...                      0      0\n",
              "2                0.11               7  ...                      0      0\n",
              "3                0.72               5  ...                      0      0\n",
              "4                0.37               2  ...                      0      0\n",
              "\n",
              "[5 rows x 6 columns]"
            ]
          },
          "metadata": {
            "tags": []
          },
          "execution_count": 178
        }
      ]
    },
    {
      "cell_type": "code",
      "metadata": {
        "id": "G4KBmt-weBx9"
      },
      "source": [
        "#linear regression\n",
        "#normalize the data\n",
        "Scaler = StandardScaler()\n",
        "df = Scaler.fit_transform(df.values)\n"
      ],
      "execution_count": 179,
      "outputs": []
    },
    {
      "cell_type": "code",
      "metadata": {
        "id": "Fv3B-R8elO1s",
        "colab": {
          "base_uri": "https://localhost:8080/"
        },
        "outputId": "50896732-d44d-434c-d401-934def2026ac"
      },
      "source": [
        "#split the data\n",
        "\n",
        "x_train, x_test, y_train, y_test = train_test_split(df, target)\n",
        "clf = LinearRegression().fit(x_train, y_train)\n",
        "pred = clf.predict(x_test)\n",
        "print('training complete')\n"
      ],
      "execution_count": 180,
      "outputs": [
        {
          "output_type": "stream",
          "text": [
            "training complete\n"
          ],
          "name": "stdout"
        }
      ]
    },
    {
      "cell_type": "code",
      "metadata": {
        "id": "qwA9HnOrmBeb"
      },
      "source": [
        "#generate report\n",
        "#print(classification_report(y_test, pred))"
      ],
      "execution_count": 181,
      "outputs": []
    },
    {
      "cell_type": "code",
      "metadata": {
        "colab": {
          "base_uri": "https://localhost:8080/"
        },
        "id": "zDX0WGSjX_bj",
        "outputId": "51e2daa7-e3b7-4565-fffa-2c88581e4bba"
      },
      "source": [
        "regressor=LinearRegression()  \n",
        "regressor.fit(x_train,y_train)  \n",
        "y_pre=regressor.predict(x_test) \n",
        "print(y_pre) "
      ],
      "execution_count": 182,
      "outputs": [
        {
          "output_type": "stream",
          "text": [
            "[193.12957537 183.65407011 169.33788802 ... 183.38038873 189.40137906\n",
            " 218.89886088]\n"
          ],
          "name": "stdout"
        }
      ]
    },
    {
      "cell_type": "code",
      "metadata": {
        "id": "C7GCN0Ah2-QJ"
      },
      "source": [
        "# Visualising the Test set results\n",
        "#plt.scatter(x_train, y_train, color = 'red')\n",
        "#plt.plot(x_train, regressor.predict(x_train), color = 'green')\n",
        "#plt.title('salary vs yearExp (Training set)')\n",
        "#plt.xlabel('years of experience')\n",
        "#plt.ylabel('salary')\n",
        "#plt.show()"
      ],
      "execution_count": 183,
      "outputs": []
    }
  ]
}